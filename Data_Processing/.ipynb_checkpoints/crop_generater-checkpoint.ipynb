{
 "cells": [
  {
   "cell_type": "code",
   "execution_count": 67,
   "metadata": {},
   "outputs": [],
   "source": [
    "## pip install opencv-contrib-python\n",
    "## pip install opencv-python"
   ]
  },
  {
   "cell_type": "code",
   "execution_count": 68,
   "metadata": {},
   "outputs": [],
   "source": [
    "import os\n",
    "import json\n",
    "import pandas as pd\n",
    "import cv2"
   ]
  },
  {
   "cell_type": "code",
   "execution_count": 69,
   "metadata": {},
   "outputs": [],
   "source": [
    "def bbox_concat(json_data):\n",
    "    \n",
    "    result = []\n",
    "    sorted_bboxes = sorted(json_data['Bbox'], key=lambda bbox: min(bbox['y']))\n",
    "    initBox = sorted_bboxes[0]\n",
    "    text = [[initBox['data'], min(initBox['x'])]]\n",
    "    minX, maxX, minY, maxY = min(initBox['x']), max(initBox['x']), min(initBox['y']), max(initBox['y'])\n",
    "    midLine = (minY + maxY) / 2\n",
    "\n",
    "    for bbox in sorted_bboxes[1:]:\n",
    "        if min(bbox['y']) < midLine < max(bbox['y']):\n",
    "            minX = min(minX, min(bbox['x']))\n",
    "            maxX = max(maxX, max(bbox['x']))\n",
    "            minY = min(minY, min(bbox['y']))\n",
    "            maxY = max(maxY, max(bbox['y']))\n",
    "            text.append([bbox['data'], min(bbox['x'])])\n",
    "        else:\n",
    "            text = sorted(text, key=lambda x: x[1])\n",
    "            line = ' '.join(word[0] for word in text)\n",
    "            result.append([line,[minX, maxX, minY, maxY]])\n",
    "        \n",
    "            minX, maxX, minY, maxY = min(bbox['x']), max(bbox['x']), min(bbox['y']), max(bbox['y'])\n",
    "            midLine = (minY + maxY) / 2\n",
    "            text = [[bbox['data'],min(bbox['x'])]]\n",
    "        \n",
    "    text = sorted(text, key=lambda x: x[1])\n",
    "    line = ' '.join(word[0] for word in text)\n",
    "    result.append([line,[minX, maxX, minY, maxY]])\n",
    "\n",
    "    return result"
   ]
  },
  {
   "cell_type": "code",
   "execution_count": 70,
   "metadata": {
    "executionInfo": {
     "elapsed": 303,
     "status": "ok",
     "timestamp": 1699823439584,
     "user": {
      "displayName": "정회수",
      "userId": "09861269676585639088"
     },
     "user_tz": -540
    },
    "id": "jt8QO285_2rn"
   },
   "outputs": [],
   "source": [
    "base_path = 'C:/Users/wjdgh/Desktop/Detection_Data/Training'\n",
    "label_path = base_path + '/Labels_sample'\n",
    "image_path = base_path + '/Images_sample'\n",
    "crop_path = 'C:/Users/wjdgh/Desktop/Recognition_Data/Training/Images_sample'\n",
    "csv_path = 'C:/Users/wjdgh/Desktop/Recognition_Data/Training/Labels_sample/info.csv'\n",
    "\n",
    "image_items = sorted(os.listdir(image_path))\n",
    "label_items = sorted(os.listdir(label_path))\n",
    "info = pd.DataFrame(columns=['file_name','text'])\n",
    "\n",
    "n_iter = len(image_items)\n",
    "\n",
    "for i in range(n_iter):\n",
    "\n",
    "    path_L = os.path.join(label_path,label_items[i])\n",
    "    path_I = os.path.join(image_path,image_items[i])\n",
    "\n",
    "    with open(path_L, 'r', encoding='UTF-8') as f:\n",
    "        json_data = json.load(f)\n",
    "        \n",
    "    image = cv2.imread(path_I, cv2.IMREAD_COLOR)\n",
    "    curr_image_name = json_data['Images']['identifier']\n",
    "    bbox_sorted = bbox_concat(json_data)\n",
    "    id = 0\n",
    "\n",
    "    if image is None:\n",
    "        print(\"Error: Image not loaded.\")\n",
    "    else:\n",
    "        for item in bbox_sorted:\n",
    "            data = item[0]\n",
    "            bbox = item[1]\n",
    "            \n",
    "            cropped_image = image[bbox[2]:bbox[3],bbox[0]:bbox[1]]\n",
    "            cropped_image = cv2.cvtColor(cropped_image, cv2.COLOR_BGR2GRAY)\n",
    "            cropped_image = cv2.medianBlur(cropped_image,5)\n",
    "            cropped_image = cv2.adaptiveThreshold(cropped_image,255,cv2.ADAPTIVE_THRESH_GAUSSIAN_C,\\\n",
    "                            cv2.THRESH_BINARY,13,4)\n",
    "            cropped_image = cv2.fastNlMeansDenoising(cropped_image,None,10,3,10)\n",
    "\n",
    "            id+=1\n",
    "            name = curr_image_name + '_' + str(id) + '.jpg'\n",
    "            info.loc[len(info.index)] = [name,data]\n",
    "            crop_save_path = os.path.join(crop_path,name)\n",
    "            cv2.imwrite(crop_save_path, cropped_image)\n",
    "            \n",
    "\n",
    "info.to_csv(csv_path, index=False, encoding='cp949')"
   ]
  },
  {
   "cell_type": "code",
   "execution_count": null,
   "metadata": {},
   "outputs": [],
   "source": []
  }
 ],
 "metadata": {
  "colab": {
   "authorship_tag": "ABX9TyOk/qEglAE6kYDx4Mcbeuk6",
   "provenance": []
  },
  "kernelspec": {
   "display_name": "Python 3 (ipykernel)",
   "language": "python",
   "name": "python3"
  },
  "language_info": {
   "codemirror_mode": {
    "name": "ipython",
    "version": 3
   },
   "file_extension": ".py",
   "mimetype": "text/x-python",
   "name": "python",
   "nbconvert_exporter": "python",
   "pygments_lexer": "ipython3",
   "version": "3.9.12"
  }
 },
 "nbformat": 4,
 "nbformat_minor": 1
}
