{
 "cells": [
  {
   "cell_type": "code",
   "execution_count": 33,
   "metadata": {},
   "outputs": [],
   "source": [
    "## pip install opencv-contrib-python\n",
    "## pip install opencv-python"
   ]
  },
  {
   "cell_type": "code",
   "execution_count": 36,
   "metadata": {
    "executionInfo": {
     "elapsed": 303,
     "status": "ok",
     "timestamp": 1699823439584,
     "user": {
      "displayName": "정회수",
      "userId": "09861269676585639088"
     },
     "user_tz": -540
    },
    "id": "jt8QO285_2rn"
   },
   "outputs": [],
   "source": [
    "import os\n",
    "import json\n",
    "import pandas as pd\n",
    "import cv2"
   ]
  },
  {
   "cell_type": "code",
   "execution_count": 37,
   "metadata": {
    "executionInfo": {
     "elapsed": 4,
     "status": "ok",
     "timestamp": 1699823441793,
     "user": {
      "displayName": "정회수",
      "userId": "09861269676585639088"
     },
     "user_tz": -540
    },
    "id": "N0-piio9Bdyb"
   },
   "outputs": [],
   "source": [
    "base_path = 'C:/Users/wjdgh/Desktop/Detection_Data/Training'\n",
    "label_path = base_path + '/Labels_sample'\n",
    "image_path = base_path + '/Images_sample'\n",
    "crop_path = 'C:/Users/wjdgh/Desktop/Recognition_Data/Training/Images_sample'\n",
    "csv_path = 'C:/Users/wjdgh/Desktop/Recognition_Data/Training/Labels_sample/info.csv'"
   ]
  },
  {
   "cell_type": "code",
   "execution_count": 38,
   "metadata": {
    "executionInfo": {
     "elapsed": 4,
     "status": "ok",
     "timestamp": 1699823441794,
     "user": {
      "displayName": "정회수",
      "userId": "09861269676585639088"
     },
     "user_tz": -540
    },
    "id": "tVFJeq4yCNtc"
   },
   "outputs": [],
   "source": [
    "image_items = sorted(os.listdir(image_path))\n",
    "label_items = sorted(os.listdir(label_path))\n",
    "info = pd.DataFrame(columns=['file_name','text'])"
   ]
  },
  {
   "cell_type": "code",
   "execution_count": 81,
   "metadata": {
    "executionInfo": {
     "elapsed": 22250,
     "status": "ok",
     "timestamp": 1699823464040,
     "user": {
      "displayName": "정회수",
      "userId": "09861269676585639088"
     },
     "user_tz": -540
    },
    "id": "Uq0VtnszMD0Q"
   },
   "outputs": [],
   "source": [
    "n_iter = len(image_items)\n",
    "\n",
    "for i in range(n_iter):\n",
    "\n",
    "    path_L = os.path.join(label_path,label_items[i])\n",
    "    path_I = os.path.join(image_path,image_items[i])\n",
    "\n",
    "    with open(path_L, 'r', encoding='UTF-8') as f:\n",
    "        json_data = json.load(f)\n",
    "    \n",
    "    image = cv2.imread(path_I, cv2.IMREAD_COLOR)\n",
    "    curr_image_name = json_data['Images']['identifier']\n",
    "\n",
    "    if image is None:\n",
    "        print(\"Error: Image not loaded.\")\n",
    "    else:\n",
    "        for item in json_data['Bbox']:\n",
    "            x = item['x']\n",
    "            y = item['y']\n",
    "            data = item['data']\n",
    "            id = item['id']\n",
    "            \n",
    "            cropped_image = image[y[0]:y[3],x[0]:x[3]]\n",
    "            cropped_image = cv2.cvtColor(cropped_image, cv2.COLOR_BGR2GRAY)\n",
    "            cropped_image = cv.medianBlur(cropped_image,5)\n",
    "            cropped_image = cv.adaptiveThreshold(cropped_image,255,cv.ADAPTIVE_THRESH_GAUSSIAN_C,\\\n",
    "                            cv.THRESH_BINARY,15,3)\n",
    "            cropped_image = cv.fastNlMeansDenoising(cropped_image,None,10,7,21)\n",
    "\n",
    "\n",
    "            name = curr_image_name + '_' + str(id) + '.jpg'\n",
    "            info.loc[len(info.index)] = [name,data]\n",
    "            crop_save_path = os.path.join(crop_path,name)\n",
    "            cv2.imwrite(crop_save_path, cropped_image)"
   ]
  },
  {
   "cell_type": "code",
   "execution_count": 82,
   "metadata": {},
   "outputs": [],
   "source": [
    "info.to_csv(csv_path, index=False, encoding='cp949')"
   ]
  }
 ],
 "metadata": {
  "colab": {
   "authorship_tag": "ABX9TyOk/qEglAE6kYDx4Mcbeuk6",
   "provenance": []
  },
  "kernelspec": {
   "display_name": "Python 3 (ipykernel)",
   "language": "python",
   "name": "python3"
  },
  "language_info": {
   "codemirror_mode": {
    "name": "ipython",
    "version": 3
   },
   "file_extension": ".py",
   "mimetype": "text/x-python",
   "name": "python",
   "nbconvert_exporter": "python",
   "pygments_lexer": "ipython3",
   "version": "3.9.12"
  }
 },
 "nbformat": 4,
 "nbformat_minor": 1
}
